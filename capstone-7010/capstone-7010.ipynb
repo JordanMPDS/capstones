{
 "cells": [
  {
   "cell_type": "markdown",
   "metadata": {
    "application/vnd.databricks.v1+cell": {
     "cellMetadata": {
      "byteLimit": 2048000,
      "rowLimit": 10000
     },
     "inputWidgets": {},
     "nuid": "fbdfd821-1dd8-4570-bc53-73657d78946c",
     "showTitle": false,
     "tableResultSettingsMap": {},
     "title": ""
    }
   },
   "source": [
    "The data for this project comes from IBM and their work on TabFormers in Python.  This is a great dataset to use for credit card activity to try and detect fraudulent activity from valid activity. https://ibm.ent.box.com/v/tabformer-data\n",
    "\n",
    "I will be using a clustering algorithim to try and group fraudulent activity together to pinpoint activity that may be suspicious."
   ]
  },
  {
   "cell_type": "code",
   "execution_count": 0,
   "metadata": {
    "application/vnd.databricks.v1+cell": {
     "cellMetadata": {
      "byteLimit": 2048000,
      "rowLimit": 10000
     },
     "inputWidgets": {},
     "nuid": "9c433769-a734-41fc-8211-ed067a8c9cde",
     "showTitle": false,
     "tableResultSettingsMap": {},
     "title": ""
    }
   },
   "outputs": [],
   "source": [
    "cli::cli_alert(glue::glue(\"{Sys.time()} - Loading packages\"))\n",
    "suppressMessages(library(glue))\n",
    "suppressMessages(library(readr))\n",
    "suppressMessages(library(magrittr))\n",
    "suppressMessages(library(dplyr))\n",
    "suppressMessages(library(dbscan))\n",
    "suppressMessages(library(Rtsne))\n",
    "suppressMessages(library(ggplot2))\n",
    "suppressMessages(library(sparklyr))\n",
    "suppressMessages(library(dbplyr))\n",
    "suppressMessages(library(caret))\n",
    "suppressMessages(library(pROC))\n",
    "cli::cli_alert_success(glue(\"{Sys.time()} - Packages Loaded\"))"
   ]
  },
  {
   "cell_type": "code",
   "execution_count": 0,
   "metadata": {
    "application/vnd.databricks.v1+cell": {
     "cellMetadata": {
      "byteLimit": 2048000,
      "rowLimit": 10000
     },
     "inputWidgets": {},
     "nuid": "c02328a0-6f0c-4938-b4bf-cd9191d211b6",
     "showTitle": false,
     "tableResultSettingsMap": {},
     "title": ""
    }
   },
   "outputs": [],
   "source": [
    "cli::cli_alert(glue(\"{Sys.time()} - Connecting to spark\"))\n",
    "sc <- spark_connect(method = \"databricks\")\n",
    "cli::cli_alert_success(glue(\"{Sys.time()} - Connected to spark\"))"
   ]
  },
  {
   "cell_type": "code",
   "execution_count": 0,
   "metadata": {
    "application/vnd.databricks.v1+cell": {
     "cellMetadata": {
      "byteLimit": 2048000,
      "rowLimit": 10000
     },
     "inputWidgets": {},
     "nuid": "344f0dce-f76f-4ff4-b935-af70c73e1e8b",
     "showTitle": false,
     "tableResultSettingsMap": {},
     "title": ""
    }
   },
   "outputs": [],
   "source": [
    "cli::cli_alert(glue(\"{Sys.time()} - Loading Data\"))\n",
    "card_activity <- spark_read_csv(sc, \"/Volumes/rando/default/rando_vols/card_transaction.v1(1).csv\")\n",
    "cli::cli_alert_success(glue(\"{Sys.time()} - Data Loaded\"))"
   ]
  },
  {
   "cell_type": "code",
   "execution_count": 0,
   "metadata": {
    "application/vnd.databricks.v1+cell": {
     "cellMetadata": {
      "byteLimit": 2048000,
      "rowLimit": 10000
     },
     "inputWidgets": {},
     "nuid": "3e90b910-073a-4ce8-a39c-c83048b172a0",
     "showTitle": false,
     "tableResultSettingsMap": {},
     "title": ""
    }
   },
   "outputs": [],
   "source": [
    "# Looking at loaded data\n",
    "print(head(card_activity))\n",
    "print(colnames(card_activity))"
   ]
  },
  {
   "cell_type": "code",
   "execution_count": 0,
   "metadata": {
    "application/vnd.databricks.v1+cell": {
     "cellMetadata": {
      "byteLimit": 2048000,
      "rowLimit": 10000
     },
     "inputWidgets": {},
     "nuid": "03fec1df-df6c-46bd-8f41-512117171f95",
     "showTitle": false,
     "tableResultSettingsMap": {},
     "title": ""
    }
   },
   "outputs": [],
   "source": [
    "cli::cli_alert(glue(\"{Sys.time()} - Data cleaning started\"))\n",
    "\n",
    "card_activity_cleaned <- card_activity %>%\n",
    "  select(!c(Errors)) %>%\n",
    "  mutate(\n",
    "    Amount = as.double(regexp_replace(Amount,'\\\\\\\\$','')),\n",
    "    Use_Chip = case_when(\n",
    "      Use_Chip == 'Swipe Transaction' ~ 1,\n",
    "      Use_Chip == 'Online Transaction' ~ 2,\n",
    "      Use_Chip == 'Chip Transaction' ~ 3\n",
    "    ),\n",
    "    Is_Fraud = case_when(\n",
    "      Is_Fraud == 'No' ~ 0,\n",
    "      TRUE ~ 1\n",
    "    )) %>%\n",
    "  na.omit()\n",
    "\n",
    "cli::cli_alert_success(glue(\"{Sys.time()} - Data cleaning finished\"))\n",
    "cli::cli_alert(glue(\"{Sys.time()} - Feature engineering started\"))\n",
    "\n",
    "card_activity_cities <- card_activity_cleaned %>%\n",
    "  select(Merchant_City) %>%\n",
    "  distinct() %>%\n",
    "  window_order(Merchant_City) %>%\n",
    "  mutate(city_row_num = row_number())\n",
    "\n",
    "user_stats <- card_activity_cleaned %>%\n",
    "  group_by(User) %>%\n",
    "  summarize(\n",
    "    avg_amount = mean(Amount, na.rm = TRUE),\n",
    "    med_amount = percentile(Amount, 0.5),\n",
    "    max_amount = max(Amount, na.rm = TRUE),\n",
    "    min_amount = min(Amount, na.rm = TRUE),\n",
    "    sd_amount = sd(Amount, na.rm = TRUE)\n",
    "  )\n",
    "\n",
    "home_states <- card_activity_cleaned %>%\n",
    "  group_by(User, Merchant_State) %>%\n",
    "  summarize(.groups = \"keep\", count = n()) %>%\n",
    "  arrange(User, desc(count)) %>%\n",
    "  group_by(User) %>%\n",
    "  filter(row_number() == 1) %>%\n",
    "  select(User, home_state = Merchant_State)\n",
    "\n",
    "merchant_risk <- card_activity_cleaned %>%\n",
    "  group_by(Merchant_Name) %>%\n",
    "  summarise(\n",
    "    merchant_txn_count = n(),\n",
    "    merchant_fraud_rate = sum(Is_Fraud) / n()\n",
    "  )\n",
    "\n",
    "mcc_risk <- card_activity_cleaned %>%\n",
    "  group_by(MCC) %>%\n",
    "  summarise(\n",
    "    mcc_txn_count = n(),\n",
    "    mcc_fraud_rate = sum(Is_Fraud) / n()\n",
    "  )\n",
    "\n",
    "card_activity_updated <- card_activity_cleaned %>%\n",
    "  mutate(\n",
    "    hour = hour(Time),\n",
    "    day_of_week = dayofweek(Time),\n",
    "    is_weekend = ifelse(dayofweek(Time) %in% c(1,7), 1, 0),\n",
    "    is_night = ifelse(hour(Time) >= 21 | hour(Time) <= 6, 1, 0)\n",
    "    ) %>%\n",
    "  left_join(card_activity_cities,by = c(\"Merchant_City\")) %>%\n",
    "  left_join(user_stats, by = c(\"User\")) %>%\n",
    "  left_join(home_states, by = c(\"User\")) %>%\n",
    "  left_join(merchant_risk, by = c(\"Merchant_Name\")) %>%\n",
    "  left_join(mcc_risk, by = c(\"MCC\")) %>%\n",
    "  mutate(\n",
    "    amount_to_avg_ratio = Amount / avg_amount,\n",
    "    amount_to_max_ratio = Amount / max_amount,\n",
    "    amount_min_avg = Amount - avg_amount,\n",
    "    amount_zscore = (Amount - avg_amount) / sd_amount,\n",
    "    diff_state = ifelse(Merchant_State != home_state, 1, 0)\n",
    "    ) %>%\n",
    "  compute(\"card_activity_updated\")\n",
    "\n",
    "cli::cli_alert_success(glue(\"{Sys.time()} - Feature engineering finished\"))\n"
   ]
  },
  {
   "cell_type": "code",
   "execution_count": 0,
   "metadata": {
    "application/vnd.databricks.v1+cell": {
     "cellMetadata": {
      "byteLimit": 2048000,
      "rowLimit": 10000
     },
     "inputWidgets": {},
     "nuid": "0b5b815f-17ca-4505-9513-0d616217fbd7",
     "showTitle": false,
     "tableResultSettingsMap": {},
     "title": ""
    }
   },
   "outputs": [],
   "source": [
    "cli::cli_alert(glue(\"{Sys.time()} - Starting model prep\"))\n",
    "\n",
    "set.seed(123)\n",
    "fraud_cases <- card_activity_updated %>%\n",
    "  filter(Is_Fraud == 1)\n",
    "\n",
    "non_fraud_sample <- card_activity_updated %>%\n",
    "  filter(Is_Fraud == 0) %>%\n",
    "  sdf_sample(fraction = (29757*10)/24357143, replacement = FALSE)\n",
    "\n",
    "final_sample <- fraud_cases %>%\n",
    "  sdf_bind_rows(non_fraud_sample)\n",
    "\n",
    "feature_columns <- final_sample %>%\n",
    "  select(where(is.numeric), -c(Is_Fraud)) %>%\n",
    "  colnames()\n",
    "\n",
    "assembled <- final_sample %>%\n",
    "    ft_vector_assembler(\n",
    "      input_cols = feature_columns,\n",
    "      output_col = \"model_features\"\n",
    "    )\n",
    "\n",
    "pca_pipeline <- ml_pipeline(sc) %>%\n",
    "  ft_vector_assembler(\n",
    "    input_cols = feature_columns,\n",
    "    output_col = \"features\"\n",
    "  ) %>%\n",
    "  ft_pca(\n",
    "    input_col = \"features\",\n",
    "    output_col = \"pca_features\",\n",
    "    k = 15\n",
    "  )\n",
    "\n",
    "pca_model <- ml_fit(pca_pipeline, final_sample)\n",
    "pca_stage <- ml_stage(pca_model, \"pca\")\n",
    "explained_var <- pca_stage$explained_variance\n",
    "total_var <- cumsum(explained_var) / sum(explained_var)\n",
    "\n",
    "splits <- assembled %>%\n",
    "  sdf_random_split(training = 0.7, testing = 0.3)\n",
    "\n",
    "cli::cli_alert_success(glue(\"{Sys.time()} - Model prep completed\"))"
   ]
  },
  {
   "cell_type": "code",
   "execution_count": 0,
   "metadata": {
    "application/vnd.databricks.v1+cell": {
     "cellMetadata": {
      "byteLimit": 2048000,
      "rowLimit": 10000
     },
     "inputWidgets": {},
     "nuid": "91345f68-3c74-4179-9978-c36d44815216",
     "showTitle": false,
     "tableResultSettingsMap": {},
     "title": ""
    }
   },
   "outputs": [],
   "source": [
    "cli::cli_alert(glue(\"{Sys.time()} - Training, Testing, Evaluation\"))\n",
    "\n",
    "rf_model <- ml_random_forest_classifier(\n",
    "  splits$training,\n",
    "  formula = Is_Fraud ~ model_features,\n",
    "  num_trees = 100\n",
    ")\n",
    "\n",
    "predictions <- ml_predict(rf_model, splits$testing)\n",
    "\n",
    "eval <- ml_binary_classification_evaluator(\n",
    "  predictions, \n",
    "  labeel_col = \"Is_Fraud\",\n",
    "  prediction_col = \"prediction\",\n",
    "  metric_name = \"areaUnderROC\"\n",
    ")\n",
    "cat(glue(\"Aread under ROC: {eval}\\n\"))\n",
    "\n",
    "predict_local <- predictions %>%\n",
    "  select(Is_Fraud, prediction) %>%\n",
    "  collect()\n",
    "\n",
    "predict_local$Is_Fraud <- factor(predict_local$Is_Fraud, levels = c(0, 1), labels = c(\"Non-Fraud\", \"Fraud\"))\n",
    "predict_local$prediction <- factor(predict_local$prediction, levels = c(0, 1), labels = c(\"Non-Fraud\", \"Fraud\"))\n",
    "\n",
    "conf_matrix <- confusionMatrix(predict_local$prediction, predict_local$Is_Fraud, positive = \"Fraud\")\n",
    "\n",
    "print(conf_matrix)\n",
    "\n",
    "cli::cli_alert_success(glue(\"{Sys.time()} - Model completed\"))"
   ]
  },
  {
   "cell_type": "code",
   "execution_count": 0,
   "metadata": {
    "application/vnd.databricks.v1+cell": {
     "cellMetadata": {
      "byteLimit": 2048000,
      "rowLimit": 10000
     },
     "inputWidgets": {},
     "nuid": "0dca7aca-5372-4601-acf4-554c984433d1",
     "showTitle": false,
     "tableResultSettingsMap": {},
     "title": ""
    }
   },
   "outputs": [],
   "source": [
    "cli::cli_alert(glue(\"{Sys.time()} - Creating confusion matrix\"))\n",
    "conf_data <- as.data.frame(conf_matrix$table)\n",
    "colnames(conf_data) <- c(\"Predicted\", \"Reference\", \"Freq\")\n",
    "\n",
    "ggplot(data = conf_data, aes(x = Reference, y = Predicted, fill = Freq)) +\n",
    "  geom_tile() +\n",
    "  geom_text(aes(label = sprintf(\"%d\", Freq)), vjust = 1) +\n",
    "  scale_fill_gradient(low = \"white\", high = \"steelblue\") +\n",
    "  theme_minimal() +\n",
    "  labs(title = \"Confusion Matrix\") +\n",
    "  theme(plot.title = element_text(hjust = 0.5))\n",
    "\n",
    "ggsave(\"confusion_matrix.png\")"
   ]
  },
  {
   "cell_type": "code",
   "execution_count": 0,
   "metadata": {
    "application/vnd.databricks.v1+cell": {
     "cellMetadata": {
      "byteLimit": 2048000,
      "rowLimit": 10000
     },
     "inputWidgets": {},
     "nuid": "9a4b96ee-0ac2-4473-a434-ed408e9f4900",
     "showTitle": false,
     "tableResultSettingsMap": {},
     "title": ""
    }
   },
   "outputs": [],
   "source": [
    "cli::cli_alert(glue(\"{Sys.time()} - Plotting feature importance\"))\n",
    "importance <- ml_feature_importances(rf_model)\n",
    "imp_values <- unlist(importance)\n",
    "importance_df <- data.frame(\n",
    "  feature = names(imp_values),\n",
    "  importance = as.numeric(imp_values)\n",
    "  )\n",
    "importance_df <- importance_df %>% arrange(desc(importance))\n",
    "\n",
    "ggplot(importance_df[1:10,], aes(x = reorder(feature, importance), y = importance)) +\n",
    "  geom_bar(stat = \"identity\", fill = \"steelblue\") +\n",
    "  coord_flip() +\n",
    "  theme_minimal() +\n",
    "  labs(\n",
    "    title = \"Top 10 Feature Importance\",\n",
    "    x = \"Features\",\n",
    "    y = \"Importance\"\n",
    "  )\n",
    "\n",
    "ggsave(\"feature_import.png\", bg = \"white\")"
   ]
  },
  {
   "cell_type": "code",
   "execution_count": 0,
   "metadata": {
    "application/vnd.databricks.v1+cell": {
     "cellMetadata": {
      "byteLimit": 2048000,
      "rowLimit": 10000
     },
     "inputWidgets": {},
     "nuid": "8c167657-6c8d-4d2b-ad5d-c9e6445f4932",
     "showTitle": false,
     "tableResultSettingsMap": {},
     "title": ""
    }
   },
   "outputs": [],
   "source": [
    "cli::cli_alert(glue(\"{Sys.time()} - Plotting FPR\"))\n",
    "fpr <- 1 - conf_matrix$byClass[\"Specificity\"]\n",
    "#cat(glue(\"False Positive Rate: {fpr}\\n\"))\n",
    "prob_local <- predictions %>%\n",
    "select(Is_Fraud, probability) %>%\n",
    "collect()\n",
    "\n",
    "prob_local$prob_fraud <- sapply(prob_local$probability, function(x) x[2])\n",
    "\n",
    "roc_object <- roc(prob_local$Is_Fraud, prob_local$prob_fraud)\n",
    "roc_coords <- coords(roc_object, \"all\")\n",
    "thresholds <- roc_coords$threshold\n",
    "fpr_values <- 1 - roc_coords$specificity\n",
    "threshold_data <- data.frame(\n",
    "  Threshold = thresholds,\n",
    "  FPR = fpr_values,\n",
    "  TPR = roc_coords$sensitivity\n",
    ")\n",
    "\n",
    "ggplot(threshold_data, aes(x = Threshold, y = FPR)) +\n",
    "  geom_line(color = \"red\", linewidth = 1.2) +\n",
    "  theme_minimal() +\n",
    "  labs(\n",
    "    title = \"False Positive Rate vs Threshold\",\n",
    "    x = \"Probability Threshold\",\n",
    "    y = \"False Positive Rate\"\n",
    "  )\n",
    "\n",
    "ggsave(\"fp_rate.png\")"
   ]
  },
  {
   "cell_type": "code",
   "execution_count": 0,
   "metadata": {
    "application/vnd.databricks.v1+cell": {
     "cellMetadata": {
      "byteLimit": 2048000,
      "rowLimit": 10000
     },
     "inputWidgets": {},
     "nuid": "5020055a-f8f8-46bc-926c-a17df83b743d",
     "showTitle": false,
     "tableResultSettingsMap": {},
     "title": ""
    }
   },
   "outputs": [],
   "source": []
  }
 ],
 "metadata": {
  "application/vnd.databricks.v1+notebook": {
   "computePreferences": null,
   "dashboards": [],
   "environmentMetadata": {
    "base_environment": "",
    "environment_version": "2"
   },
   "inputWidgetPreferences": null,
   "language": "r",
   "notebookMetadata": {
    "pythonIndentUnit": 4
   },
   "notebookName": "capstone-7010",
   "widgets": {}
  },
  "language_info": {
   "name": "r"
  }
 },
 "nbformat": 4,
 "nbformat_minor": 0
}
